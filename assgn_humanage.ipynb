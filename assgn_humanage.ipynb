{
 "cells": [
  {
   "cell_type": "code",
   "execution_count": 1,
   "id": "2693a590-75d5-4aef-b380-bfa123335fdb",
   "metadata": {},
   "outputs": [],
   "source": [
    "from pyspark.sql import SparkSession\n",
    "spark = SparkSession.builder.master('local').appName('assgn-humanage').getOrCreate()"
   ]
  },
  {
   "cell_type": "code",
   "execution_count": 8,
   "id": "f2df4db8-deaf-4426-860c-7c18a91563f8",
   "metadata": {},
   "outputs": [],
   "source": [
    "pp_info = [\n",
    "    ('준열', 20),\n",
    "    ('혜진', 26),\n",
    "    ('나야', 59),\n",
    "    ('안현', 39),\n",
    "    ('야미', 72),\n",
    "]\n"
   ]
  },
  {
   "cell_type": "code",
   "execution_count": 9,
   "id": "7c97402d-32f3-4210-bb5f-9c3354d8c509",
   "metadata": {},
   "outputs": [],
   "source": [
    "schema = ['human_name', 'age']"
   ]
  },
  {
   "cell_type": "code",
   "execution_count": 10,
   "id": "5f283d62-2dec-4f5b-b4ba-bf52d1c1deac",
   "metadata": {},
   "outputs": [],
   "source": [
    "df = spark.createDataFrame(pp_info, schema)"
   ]
  },
  {
   "cell_type": "code",
   "execution_count": 11,
   "id": "77beb41c-8db4-4d4c-b239-c0452b76a467",
   "metadata": {},
   "outputs": [
    {
     "name": "stdout",
     "output_type": "stream",
     "text": [
      "+----------+---+\n",
      "|human_name|age|\n",
      "+----------+---+\n",
      "|      준열| 20|\n",
      "|      혜진| 26|\n",
      "|      나야| 59|\n",
      "|      안현| 39|\n",
      "|      야미| 72|\n",
      "+----------+---+\n",
      "\n"
     ]
    }
   ],
   "source": [
    "df.show()"
   ]
  },
  {
   "cell_type": "code",
   "execution_count": 12,
   "id": "c5b05e81-758c-4ac3-b49e-b466e9dab87c",
   "metadata": {},
   "outputs": [
    {
     "name": "stdout",
     "output_type": "stream",
     "text": [
      "root\n",
      " |-- human_name: string (nullable = true)\n",
      " |-- age: long (nullable = true)\n",
      "\n"
     ]
    }
   ],
   "source": [
    "df.printSchema()"
   ]
  },
  {
   "cell_type": "code",
   "execution_count": 13,
   "id": "5b394b17-2cfb-4ba2-92a2-8fafd7f48185",
   "metadata": {},
   "outputs": [],
   "source": [
    "df.createOrReplaceTempView('ages')"
   ]
  },
  {
   "cell_type": "code",
   "execution_count": 14,
   "id": "002a8cd1-d38f-4953-bca2-9c0efd3d63f7",
   "metadata": {},
   "outputs": [],
   "source": [
    "def pp_info(age):\n",
    "    if age <35:\n",
    "        return \"young\"\n",
    "    elif 35<= age <= 59 :\n",
    "        return \"adult\"\n",
    "    elif 60 < age:\n",
    "        return \"senior\""
   ]
  },
  {
   "cell_type": "code",
   "execution_count": 15,
   "id": "65adebd5-4a8d-41b4-ab4b-078064bbe7e1",
   "metadata": {},
   "outputs": [
    {
     "data": {
      "text/plain": [
       "<function __main__.pp_info(age)>"
      ]
     },
     "execution_count": 15,
     "metadata": {},
     "output_type": "execute_result"
    }
   ],
   "source": [
    "spark.udf.register('pp_info', pp_info)"
   ]
  },
  {
   "cell_type": "code",
   "execution_count": null,
   "id": "8d6dd2c5-6f9f-4f34-ae92-4c129b17f56e",
   "metadata": {},
   "outputs": [],
   "source": []
  }
 ],
 "metadata": {
  "kernelspec": {
   "display_name": "Python 3 (ipykernel)",
   "language": "python",
   "name": "python3"
  },
  "language_info": {
   "codemirror_mode": {
    "name": "ipython",
    "version": 3
   },
   "file_extension": ".py",
   "mimetype": "text/x-python",
   "name": "python",
   "nbconvert_exporter": "python",
   "pygments_lexer": "ipython3",
   "version": "3.10.9"
  }
 },
 "nbformat": 4,
 "nbformat_minor": 5
}
